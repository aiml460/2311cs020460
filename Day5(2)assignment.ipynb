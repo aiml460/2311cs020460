{
  "nbformat": 4,
  "nbformat_minor": 0,
  "metadata": {
    "colab": {
      "provenance": [],
      "authorship_tag": "ABX9TyO+1gzJ+jMDooIxjAIGyYat",
      "include_colab_link": true
    },
    "kernelspec": {
      "name": "python3",
      "display_name": "Python 3"
    },
    "language_info": {
      "name": "python"
    }
  },
  "cells": [
    {
      "cell_type": "markdown",
      "metadata": {
        "id": "view-in-github",
        "colab_type": "text"
      },
      "source": [
        "<a href=\"https://colab.research.google.com/github/aiml460/460-AD/blob/main/Day5(2)assignment.ipynb\" target=\"_parent\"><img src=\"https://colab.research.google.com/assets/colab-badge.svg\" alt=\"Open In Colab\"/></a>"
      ]
    },
    {
      "cell_type": "code",
      "execution_count": 2,
      "metadata": {
        "colab": {
          "base_uri": "https://localhost:8080/"
        },
        "id": "QcIY01ma5LNE",
        "outputId": "c476f67b-69f6-463e-e11f-61f33e18d810"
      },
      "outputs": [
        {
          "output_type": "stream",
          "name": "stdout",
          "text": [
            "Enter a positive integer: 6\n",
            "The square of 6 is: 36\n"
          ]
        }
      ],
      "source": [
        "def calculate_square(n):\n",
        "    return n ** 2\n",
        "\n",
        "n = int(input(\"Enter a positive integer: \"))\n",
        "\n",
        "\n",
        "square = calculate_square(n)\n",
        "print(f\"The square of {n} is: {square}\")\n"
      ]
    }
  ]
}
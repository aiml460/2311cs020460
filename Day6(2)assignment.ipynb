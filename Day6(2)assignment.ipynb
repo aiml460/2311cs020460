{
  "nbformat": 4,
  "nbformat_minor": 0,
  "metadata": {
    "colab": {
      "provenance": [],
      "authorship_tag": "ABX9TyNXosTd4tD3enbEQgS4d9fZ",
      "include_colab_link": true
    },
    "kernelspec": {
      "name": "python3",
      "display_name": "Python 3"
    },
    "language_info": {
      "name": "python"
    }
  },
  "cells": [
    {
      "cell_type": "markdown",
      "metadata": {
        "id": "view-in-github",
        "colab_type": "text"
      },
      "source": [
        "<a href=\"https://colab.research.google.com/github/aiml460/460-AD/blob/main/Day6(2)assignment.ipynb\" target=\"_parent\"><img src=\"https://colab.research.google.com/assets/colab-badge.svg\" alt=\"Open In Colab\"/></a>"
      ]
    },
    {
      "cell_type": "code",
      "execution_count": 5,
      "metadata": {
        "id": "QcIY01ma5LNE"
      },
      "outputs": [],
      "source": [
        "import pandas as pd\n",
        "\n",
        "data = {\n",
        "    \"Name\": [\"John\", \"Alice\", \"Bob\", \"Diana\"],\n",
        "    \"Age\": [28, 34, 23, 29],\n",
        "    \"Department\": [\"HR\", \"IT\", \"Marketing\", \"Finance\"],\n",
        "    \"Salary\": [45000, 60000, 35000, 50000]\n",
        "}"
      ]
    },
    {
      "cell_type": "code",
      "source": [
        "df = pd.DataFrame(data)"
      ],
      "metadata": {
        "id": "X44p65249i_h"
      },
      "execution_count": 7,
      "outputs": []
    },
    {
      "cell_type": "code",
      "source": [
        "print(\"First 2 rows of the DataFrame:\")\n",
        "print(df.head(2))"
      ],
      "metadata": {
        "colab": {
          "base_uri": "https://localhost:8080/"
        },
        "id": "jSlH_O3691xr",
        "outputId": "f58cba16-e34b-4154-f83f-4159b73d3c55"
      },
      "execution_count": 8,
      "outputs": [
        {
          "output_type": "stream",
          "name": "stdout",
          "text": [
            "First 2 rows of the DataFrame:\n",
            "    Name  Age Department  Salary\n",
            "0   John   28         HR   45000\n",
            "1  Alice   34         IT   60000\n"
          ]
        }
      ]
    },
    {
      "cell_type": "code",
      "source": [
        "df['Bonus'] = df['Salary'] * 0.10"
      ],
      "metadata": {
        "id": "PKVXqfBo94lh"
      },
      "execution_count": 10,
      "outputs": []
    },
    {
      "cell_type": "code",
      "source": [
        "print(\"\\nDataFrame after adding the 'Bonus' column:\")\n",
        "print(df)"
      ],
      "metadata": {
        "colab": {
          "base_uri": "https://localhost:8080/"
        },
        "id": "48fQz2d5-ELZ",
        "outputId": "19bccca1-a075-4ca5-e610-774504c872eb"
      },
      "execution_count": 11,
      "outputs": [
        {
          "output_type": "stream",
          "name": "stdout",
          "text": [
            "\n",
            "DataFrame after adding the 'Bonus' column:\n",
            "    Name  Age Department  Salary   Bonus\n",
            "0   John   28         HR   45000  4500.0\n",
            "1  Alice   34         IT   60000  6000.0\n",
            "2    Bob   23  Marketing   35000  3500.0\n",
            "3  Diana   29    Finance   50000  5000.0\n"
          ]
        }
      ]
    },
    {
      "cell_type": "code",
      "source": [
        "average_salary = df['Salary'].mean()\n",
        "print(f\"\\nAverage salary of employees: {average_salary}\")"
      ],
      "metadata": {
        "colab": {
          "base_uri": "https://localhost:8080/"
        },
        "id": "_0CSOfpM-LW0",
        "outputId": "d0ae837f-309c-49a5-cbd2-ec26aaf57de9"
      },
      "execution_count": 12,
      "outputs": [
        {
          "output_type": "stream",
          "name": "stdout",
          "text": [
            "\n",
            "Average salary of employees: 47500.0\n"
          ]
        }
      ]
    },
    {
      "cell_type": "code",
      "source": [
        "print(\"\\nEmployees who are older than 25:\")\n",
        "print(df[df['Age'] > 25])"
      ],
      "metadata": {
        "colab": {
          "base_uri": "https://localhost:8080/"
        },
        "id": "1Y0fExeN-TVm",
        "outputId": "7180fe25-d544-41aa-c079-9e98c616beb8"
      },
      "execution_count": 13,
      "outputs": [
        {
          "output_type": "stream",
          "name": "stdout",
          "text": [
            "\n",
            "Employees who are older than 25:\n",
            "    Name  Age Department  Salary   Bonus\n",
            "0   John   28         HR   45000  4500.0\n",
            "1  Alice   34         IT   60000  6000.0\n",
            "3  Diana   29    Finance   50000  5000.0\n"
          ]
        }
      ]
    }
  ]
}
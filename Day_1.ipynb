{
  "nbformat": 4,
  "nbformat_minor": 0,
  "metadata": {
    "colab": {
      "provenance": [],
      "authorship_tag": "ABX9TyPsnCmyGTDhvwew15BU25OD",
      "include_colab_link": true
    },
    "kernelspec": {
      "name": "python3",
      "display_name": "Python 3"
    },
    "language_info": {
      "name": "python"
    }
  },
  "cells": [
    {
      "cell_type": "markdown",
      "metadata": {
        "id": "view-in-github",
        "colab_type": "text"
      },
      "source": [
        "<a href=\"https://colab.research.google.com/github/aiml460/460-AD/blob/main/Day_1.ipynb\" target=\"_parent\"><img src=\"https://colab.research.google.com/assets/colab-badge.svg\" alt=\"Open In Colab\"/></a>"
      ]
    },
    {
      "cell_type": "code",
      "execution_count": 1,
      "metadata": {
        "colab": {
          "base_uri": "https://localhost:8080/"
        },
        "id": "9dbZW3Tp0ahN",
        "outputId": "5394740c-4085-4cf9-c823-c5a06fabdc1f"
      },
      "outputs": [
        {
          "output_type": "stream",
          "name": "stdout",
          "text": [
            "Integer Variable: 10 Type: <class 'int'>\n",
            "Float Variable: 3.14 Type: <class 'float'>\n",
            "String Variable: Hello, Jupyter! Type: <class 'str'>\n",
            "Boolean Variable: True Type: <class 'bool'>\n",
            "List Variable: [1, 2, 3, 4, 5] Type: <class 'list'>\n",
            "Tuple Variable: (1, 2, 3, 4, 5) Type: <class 'tuple'>\n",
            "Set Variable: {1, 2, 3, 4, 5} Type: <class 'set'>\n",
            "Dictionary Variable: {'name': 'Alice', 'age': 25} Type: <class 'dict'>\n",
            "Complex Number Variable: (3+4j) Type: <class 'complex'>\n"
          ]
        }
      ],
      "source": [
        "integer_var = 10\n",
        "float_var = 3.14\n",
        "string_var = \"Hello, Jupyter!\"\n",
        "boolean_var = True\n",
        "list_var = [1, 2, 3, 4, 5]\n",
        "tuple_var = (1, 2, 3, 4, 5)\n",
        "set_var = {1, 2, 3, 4, 5}\n",
        "dict_var = {\"name\": \"Alice\", \"age\": 25}\n",
        "complex_var = 3 + 4j\n",
        "print(\"Integer Variable:\", integer_var, \"Type:\", type(integer_var))\n",
        "print(\"Float Variable:\", float_var, \"Type:\", type(float_var))\n",
        "print(\"String Variable:\", string_var, \"Type:\", type(string_var))\n",
        "print(\"Boolean Variable:\", boolean_var, \"Type:\", type(boolean_var))\n",
        "print(\"List Variable:\", list_var, \"Type:\", type(list_var))\n",
        "print(\"Tuple Variable:\", tuple_var, \"Type:\", type(tuple_var))\n",
        "print(\"Set Variable:\", set_var, \"Type:\", type(set_var))\n",
        "print(\"Dictionary Variable:\", dict_var, \"Type:\", type(dict_var))\n",
        "print(\"Complex Number Variable:\", complex_var, \"Type:\", type(complex_var))\n"
      ]
    }
  ]
}
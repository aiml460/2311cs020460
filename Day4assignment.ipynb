{
  "nbformat": 4,
  "nbformat_minor": 0,
  "metadata": {
    "colab": {
      "provenance": [],
      "authorship_tag": "ABX9TyNITOcMHUAYpJEkAboUWjh9",
      "include_colab_link": true
    },
    "kernelspec": {
      "name": "python3",
      "display_name": "Python 3"
    },
    "language_info": {
      "name": "python"
    }
  },
  "cells": [
    {
      "cell_type": "markdown",
      "metadata": {
        "id": "view-in-github",
        "colab_type": "text"
      },
      "source": [
        "<a href=\"https://colab.research.google.com/github/aiml460/460-AD/blob/main/Day4assignment.ipynb\" target=\"_parent\"><img src=\"https://colab.research.google.com/assets/colab-badge.svg\" alt=\"Open In Colab\"/></a>"
      ]
    },
    {
      "cell_type": "code",
      "execution_count": null,
      "metadata": {
        "id": "QcIY01ma5LNE"
      },
      "outputs": [],
      "source": [
        "n = int(input(\"Enter a positive integer n: \"))\n",
        "\n",
        "sum_of_evens = 0\n",
        "\n",
        "for i in range(2, n+1, 2):\n",
        "    sum_of_evens += i\n",
        "\n",
        "print(f\"The sum of all even numbers between 1 and {n} is: {sum_of_evens}\")\n"
      ]
    }
  ]
}